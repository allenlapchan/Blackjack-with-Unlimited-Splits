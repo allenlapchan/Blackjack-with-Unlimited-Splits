{
 "cells": [
  {
   "cell_type": "code",
   "execution_count": 54,
   "id": "b90cc5c1",
   "metadata": {},
   "outputs": [],
   "source": [
    "#Projects \n",
    "#20230218 - Implement indefinite split\n",
    "#Try01 20230218_202302 - first card + new card-1 is played. 2nd card + new card sent to queuing split list. once card turn finihes, send results to a scoring list. Repeat\n",
    "    #20230219\n",
    "        #Method is one card goes to main_hand, other card goes to split_list. Once main hand finishes, main hand goes to score_list, nested lists from split_hand goes to main hand. Cycle repeats till end.\n",
    "        #working on how to report doubling. thinking of inserting letter 'd', that gets removed prior to get_total, but when read during scoring will double the bet\n",
    "        #working on scoring phase\n",
    "        #NEED TO WORK ON: Player Bust currently results in winning\n",
    "    #20230220\n",
    "        #TO DO: Player Bust currently results in winning, once hit 21 move on to scoring phase or next hand, \n",
    "        #Working on how doubling needs to payout correctly\n",
    "        #To DO: Bugs seem worked out, now to wOrk on what I need to make an app of this code! :) "
   ]
  },
  {
   "cell_type": "code",
   "execution_count": 1,
   "id": "a753f3e0",
   "metadata": {},
   "outputs": [],
   "source": [
    "import re"
   ]
  },
  {
   "cell_type": "code",
   "execution_count": 4,
   "id": "e6ed05a9",
   "metadata": {},
   "outputs": [
    {
     "ename": "NameError",
     "evalue": "name 'Deck' is not defined",
     "output_type": "error",
     "traceback": [
      "\u001b[1;31m---------------------------------------------------------------------------\u001b[0m",
      "\u001b[1;31mNameError\u001b[0m                                 Traceback (most recent call last)",
      "\u001b[1;32m<ipython-input-4-248968f65e81>\u001b[0m in \u001b[0;36m<module>\u001b[1;34m\u001b[0m\n\u001b[1;32m----> 1\u001b[1;33m \u001b[0mtestdeck\u001b[0m \u001b[1;33m=\u001b[0m \u001b[0mDeck\u001b[0m\u001b[1;33m(\u001b[0m\u001b[1;33m)\u001b[0m\u001b[1;33m\u001b[0m\u001b[1;33m\u001b[0m\u001b[0m\n\u001b[0m\u001b[0;32m      2\u001b[0m \u001b[0mtestdeck\u001b[0m\u001b[1;33m.\u001b[0m\u001b[0mshuffle\u001b[0m\u001b[1;33m(\u001b[0m\u001b[1;33m)\u001b[0m\u001b[1;33m\u001b[0m\u001b[1;33m\u001b[0m\u001b[0m\n\u001b[0;32m      3\u001b[0m \u001b[0mtrial_list\u001b[0m \u001b[1;33m=\u001b[0m \u001b[1;33m[\u001b[0m\u001b[1;33m]\u001b[0m\u001b[1;33m\u001b[0m\u001b[1;33m\u001b[0m\u001b[0m\n\u001b[0;32m      4\u001b[0m \u001b[0mmain_hand\u001b[0m \u001b[1;33m=\u001b[0m \u001b[1;33m[\u001b[0m\u001b[1;33m]\u001b[0m\u001b[1;33m\u001b[0m\u001b[1;33m\u001b[0m\u001b[0m\n\u001b[0;32m      5\u001b[0m \u001b[0msplit_list\u001b[0m \u001b[1;33m=\u001b[0m \u001b[1;33m[\u001b[0m\u001b[1;33m]\u001b[0m\u001b[1;33m\u001b[0m\u001b[1;33m\u001b[0m\u001b[0m\n",
      "\u001b[1;31mNameError\u001b[0m: name 'Deck' is not defined"
     ]
    }
   ],
   "source": [
    "testdeck = Deck()\n",
    "testdeck.shuffle()\n",
    "trial_list = []\n",
    "main_hand = []\n",
    "split_list = []\n",
    "score_list = []\n",
    "trial_list.append(testdeck.deal_one())\n",
    "trial_list.append(testdeck.deal_one())\n",
    "for x in trial_list:\n",
    "    print(f\"Player 1 has {x.rank} of {x.suit}\")\n",
    "main_hand.append(trial_list.pop(0))\n",
    "main_hand.append(testdeck.deal_one())\n",
    "split_list.append(trial_list)\n",
    "main_hand = []\n",
    "#for x in main_hand:\n",
    "#    print(f\"Player 1 has {x.rank} of {x.suit}\")    \n",
    "# Next statement can couple with a while loop to play all cards in split list\n",
    "print(split_list)\n",
    "if split_list:\n",
    "    main_hand = split_list[0]\n",
    "    for x in main_hand:\n",
    "        print(f\"Player 1 has {x.rank} of {x.suit} in split list\")\n",
    "    print(\"Something in split list\")\n",
    "else:\n",
    "    print('Nothing in split list')\n",
    "    "
   ]
  },
  {
   "cell_type": "code",
   "execution_count": 5,
   "id": "1e49054e",
   "metadata": {},
   "outputs": [
    {
     "ename": "NameError",
     "evalue": "name 'testdeck' is not defined",
     "output_type": "error",
     "traceback": [
      "\u001b[1;31m---------------------------------------------------------------------------\u001b[0m",
      "\u001b[1;31mNameError\u001b[0m                                 Traceback (most recent call last)",
      "\u001b[1;32m<ipython-input-5-aee2acb4e08f>\u001b[0m in \u001b[0;36m<module>\u001b[1;34m\u001b[0m\n\u001b[0;32m      1\u001b[0m \u001b[0mscore_list\u001b[0m \u001b[1;33m=\u001b[0m \u001b[1;33m[\u001b[0m\u001b[1;33m]\u001b[0m\u001b[1;33m\u001b[0m\u001b[1;33m\u001b[0m\u001b[0m\n\u001b[0;32m      2\u001b[0m \u001b[0mtrial_list\u001b[0m \u001b[1;33m=\u001b[0m \u001b[1;33m[\u001b[0m\u001b[1;33m]\u001b[0m\u001b[1;33m\u001b[0m\u001b[1;33m\u001b[0m\u001b[0m\n\u001b[1;32m----> 3\u001b[1;33m \u001b[0mtrial_list\u001b[0m\u001b[1;33m.\u001b[0m\u001b[0mappend\u001b[0m\u001b[1;33m(\u001b[0m\u001b[0mtestdeck\u001b[0m\u001b[1;33m.\u001b[0m\u001b[0mdeal_one\u001b[0m\u001b[1;33m(\u001b[0m\u001b[1;33m)\u001b[0m\u001b[1;33m)\u001b[0m\u001b[1;33m\u001b[0m\u001b[1;33m\u001b[0m\u001b[0m\n\u001b[0m\u001b[0;32m      4\u001b[0m \u001b[0mtrial_list\u001b[0m\u001b[1;33m.\u001b[0m\u001b[0mappend\u001b[0m\u001b[1;33m(\u001b[0m\u001b[0mtestdeck\u001b[0m\u001b[1;33m.\u001b[0m\u001b[0mdeal_one\u001b[0m\u001b[1;33m(\u001b[0m\u001b[1;33m)\u001b[0m\u001b[1;33m)\u001b[0m\u001b[1;33m\u001b[0m\u001b[1;33m\u001b[0m\u001b[0m\n\u001b[0;32m      5\u001b[0m \u001b[0mprint\u001b[0m\u001b[1;33m(\u001b[0m\u001b[0mget_total\u001b[0m\u001b[1;33m(\u001b[0m\u001b[0mtrial_list\u001b[0m\u001b[1;33m)\u001b[0m\u001b[1;33m)\u001b[0m\u001b[1;33m\u001b[0m\u001b[1;33m\u001b[0m\u001b[0m\n",
      "\u001b[1;31mNameError\u001b[0m: name 'testdeck' is not defined"
     ]
    }
   ],
   "source": [
    "score_list = []\n",
    "trial_list = []\n",
    "trial_list.append(testdeck.deal_one())\n",
    "trial_list.append(testdeck.deal_one())\n",
    "print(get_total(trial_list))\n",
    "score_list.append(trial_list)\n",
    "hand_2 = []\n",
    "hand_2.append(testdeck.deal_one())\n",
    "hand_2.append(testdeck.deal_one())\n",
    "print(get_total(hand_2))\n",
    "score_list.append(hand_2)\n",
    "hand_3 = []\n",
    "hand_3.append(testdeck.deal_one())\n",
    "hand_3.append(testdeck.deal_one())\n",
    "hand_3.append('d')\n",
    "print(get_total(hand_3))\n",
    "score_list.append(hand_3)\n",
    "for hand in score_list:\n",
    "    if 'd' in hand:\n",
    "        print(f'Double found. The hand total is {get_total(hand)}')\n",
    "    else:\n",
    "        print(f'The hand total is {get_total(hand)}')"
   ]
  },
  {
   "cell_type": "code",
   "execution_count": 6,
   "id": "839b431b",
   "metadata": {},
   "outputs": [
    {
     "name": "stdout",
     "output_type": "stream",
     "text": [
      "split hand is [[2]]\n",
      "main hand is [4]\n"
     ]
    }
   ],
   "source": [
    "#Test split list to main hand transfer\n",
    "split_hand = [[4], [2]]\n",
    "main_hand = [1,2]\n",
    "main_hand = []\n",
    "main_hand = split_hand.pop(0)\n",
    "print(f'split hand is {split_hand}')\n",
    "print(f'main hand is {main_hand}')\n"
   ]
  },
  {
   "cell_type": "code",
   "execution_count": 7,
   "id": "58f6f0d3",
   "metadata": {},
   "outputs": [],
   "source": [
    "suits = ('Hearts', 'Diamonds', 'Spades', 'Clubs')\n",
    "ranks = ('Two', 'Three', 'Four', 'Five', 'Six', 'Seven', 'Eight', 'Nine', 'Ten', 'Jack', 'Queen', 'King', 'Ace')\n",
    "#ranks = ('Ten', 'Ten', 'Ten', 'Ten')\n",
    "values = {'Two':2, 'Three':3, 'Four':4, 'Five':5, 'Six':6, 'Seven':7, 'Eight':8, \n",
    "            'Nine':9, 'Ten':10, 'Jack':10, 'Queen':10, 'King':10, 'Ace':11}"
   ]
  },
  {
   "cell_type": "code",
   "execution_count": 8,
   "id": "d05dcf1d",
   "metadata": {},
   "outputs": [],
   "source": [
    "class Account:\n",
    "    def __init__(self,balance=0):\n",
    "        with open('Blackjack_Output.txt') as f:\n",
    "            lines = f.readlines()\n",
    "        match = re.findall(r\"Bank Roll:\\s(.\\d+)\",str(lines))\n",
    "        for value in [int(x) for x in match]:\n",
    "            balance = balance + value\n",
    "        self.balance = balance\n",
    "        \n",
    "    def __str__(self):\n",
    "        return f'Player Money Balance: ${self.balance}'\n",
    "        \n",
    "    def deposit(self,dep_amt):\n",
    "        self.balance += dep_amt\n",
    "        print(f'${dep_amt} deposited into account. Balance is ${self.balance}')\n",
    "        \n",
    "    def withdraw(self,wd_amt):\n",
    "        if self.balance >= wd_amt and wd_amt > 0:\n",
    "            self.balance -= wd_amt\n",
    "            print(f'Bet Accepted. Balance is ${self.balance}')\n",
    "            return True\n",
    "        else:\n",
    "            print('Funds Unavailable for bet!')\n",
    "            return False\n",
    "        \n"
   ]
  },
  {
   "cell_type": "code",
   "execution_count": 9,
   "id": "bf2d095b",
   "metadata": {},
   "outputs": [],
   "source": [
    "import random\n",
    "\n",
    "class Card:\n",
    "    \n",
    "    def __init__(self,suit,rank):\n",
    "        self.suit = suit\n",
    "        self.rank = rank\n",
    "        self.value = values[rank]\n",
    "    def __str__(self):\n",
    "        return self.rank + ' of ' + self.suit\n",
    "    \n",
    "    def show(self):\n",
    "        print(\"{} of {}\" .format(self.rank, self.suit))\n",
    "\n",
    "class Deck:\n",
    "    \n",
    "    def __init__(self):\n",
    "        # Note this only happens once upon creation of a new Deck\n",
    "        self.all_cards = [] \n",
    "        for suit in suits:\n",
    "            for rank in ranks:\n",
    "                # This assumes the Card class has already been defined!\n",
    "                self.all_cards.append(Card(suit,rank))\n",
    "    \n",
    "    def __str__(self):\n",
    "        dec_comp = ''\n",
    "        for x in self.all_cards:\n",
    "            dec_comp = dec_comp + x.__str__() +\"\\n\"\n",
    "        return 'The deck is: \\n' + dec_comp\n",
    "    \n",
    "    def shuffle(self):\n",
    "        # Note this doesn't return anything\n",
    "        random.shuffle(self.all_cards)\n",
    "        \n",
    "    def deal_one(self):\n",
    "        # Note we remove one card from the list of all_cards\n",
    "        return self.all_cards.pop()    "
   ]
  },
  {
   "cell_type": "code",
   "execution_count": 10,
   "id": "c3f84f78",
   "metadata": {},
   "outputs": [],
   "source": [
    "import random\n",
    "\n",
    "class Shoe():\n",
    "    def __init__(self):\n",
    "        self.used_cards = []\n",
    "        self.cards_in_shoe = []\n",
    "        \n",
    "        \n",
    "    def __str__(self):\n",
    "        print('Number of cards is: ', len(self.cards_in_shoe))\n",
    "\n",
    "    \n",
    "    def add_deck(self):\n",
    "        for suit in suits:\n",
    "            for rank in ranks:\n",
    "                # This assumes the Card class has already been defined!\n",
    "                self.cards_in_shoe.append(Card(suit,rank))\n",
    "                \n",
    "    def deal_one(self):\n",
    "        # Note we remove one card from the list of all_cards\n",
    "        a = self.cards_in_shoe.pop()\n",
    "        self.used_cards.append(a)\n",
    "        return a\n",
    "    \n",
    "        \n",
    "    def deal_one(self):\n",
    "        # Note we remove one card from the list of all_cards\n",
    "        return self.all_cards.pop()   \n",
    "    \n",
    "    def check_cut_card(self):\n",
    "        if len(self.cards_in_shoe) <= 74:\n",
    "            print('Cut card revealed, shuffling shoe!')\n",
    "            self.cards_in_shoe = []\n",
    "            self.used_cards = []\n",
    "            for x in range(6):\n",
    "                for suit in suits:\n",
    "                    for rank in ranks:\n",
    "                        self.cards_in_shoe.append(Card(suit,rank))\n",
    "            random.shuffle(self.cards_in_shoe)\n",
    "    \n",
    "    def shuffle(self):\n",
    "        # Note this doesn't return anything\n",
    "        random.shuffle(self.cards_in_shoe)\n",
    "    "
   ]
  },
  {
   "cell_type": "code",
   "execution_count": 11,
   "id": "e6ebebc2",
   "metadata": {},
   "outputs": [],
   "source": [
    "def replay():\n",
    "    \n",
    "    return input('Do you want to play again? Enter Yes or No: ').lower().startswith('y')"
   ]
  },
  {
   "cell_type": "code",
   "execution_count": 12,
   "id": "fe4f3075",
   "metadata": {},
   "outputs": [],
   "source": [
    "def get_total(a):\n",
    "    total = 0\n",
    "    aces = 0\n",
    "    for x in a:\n",
    "        if x != 'd':\n",
    "            total = total + x.value\n",
    "            if x.rank == 'Ace':\n",
    "                aces = aces + 1\n",
    "    while aces > 0 and total > 21:\n",
    "        total = total - 10\n",
    "        aces = aces - 1\n",
    "    return total"
   ]
  },
  {
   "cell_type": "code",
   "execution_count": 13,
   "id": "8c4a278a",
   "metadata": {},
   "outputs": [
    {
     "ename": "SyntaxError",
     "evalue": "unexpected EOF while parsing (<ipython-input-13-ac6665cda127>, line 5)",
     "output_type": "error",
     "traceback": [
      "\u001b[1;36m  File \u001b[1;32m\"<ipython-input-13-ac6665cda127>\"\u001b[1;36m, line \u001b[1;32m5\u001b[0m\n\u001b[1;33m    print(\u001b[0m\n\u001b[1;37m          ^\u001b[0m\n\u001b[1;31mSyntaxError\u001b[0m\u001b[1;31m:\u001b[0m unexpected EOF while parsing\n"
     ]
    }
   ],
   "source": [
    "comp_list=[]\n",
    "bew_comp=[]\n",
    "comp_list.append(trialdeck.deal_one())\n",
    "comp_list.append(trialdeck.deal_one())\n",
    "print("
   ]
  },
  {
   "cell_type": "code",
   "execution_count": 14,
   "id": "ceb38bfe",
   "metadata": {},
   "outputs": [],
   "source": [
    "def hit_or_stay():\n",
    "    choice = ''\n",
    "    while not(choice.lower() == 'h' or choice.lower() =='s' or choice.lower() == 'd' or choice.lower() == 'p'):\n",
    "        choice = input('Will you (h)it or (s)tay? or (d)ouble down or s(p)lit?')\n",
    "    if choice.lower() == 'h':\n",
    "        return 1\n",
    "    elif choice.lower() == 's':\n",
    "        return 2\n",
    "    elif choice.lower() == 'd':\n",
    "        return 3\n",
    "    elif choice.lower() == 'p':\n",
    "        return 4"
   ]
  },
  {
   "cell_type": "code",
   "execution_count": 15,
   "id": "9f631cd4",
   "metadata": {},
   "outputs": [],
   "source": [
    "list_two = []\n",
    "list_one = [1,2,3,4,5]\n",
    "list_three = [1,2,3,4,5,7]\n",
    "list_two = list_one + list_three"
   ]
  },
  {
   "cell_type": "code",
   "execution_count": 16,
   "id": "210c21a5",
   "metadata": {},
   "outputs": [
    {
     "data": {
      "text/plain": [
       "[1, 2, 3, 4, 5, 1, 2, 3, 4, 5, 7]"
      ]
     },
     "execution_count": 16,
     "metadata": {},
     "output_type": "execute_result"
    }
   ],
   "source": [
    "list_two"
   ]
  },
  {
   "cell_type": "code",
   "execution_count": 17,
   "id": "0dd79bc8",
   "metadata": {},
   "outputs": [],
   "source": [
    "#Working on this on 11/12/2021\n",
    "\n",
    "\n",
    "class Hand(object):\n",
    "    def __init__(self):\n",
    "        self.hand = []\n",
    "\n",
    "    def add_card(self, card):\n",
    "        self.hand.append(card)\n",
    "        return self.hand\n",
    "\n",
    "    def get_value(self):\n",
    "        aces = 0\n",
    "        value = 0\n",
    "        for card in self.hand:\n",
    "            if card.is_ace():\n",
    "                aces += 1\n",
    "            value += card.point\n",
    "        while (value > 21) and aces:\n",
    "            value -= 10\n",
    "            aces -= 1\n",
    "        return value\n",
    "    \n",
    "class Dealer(Hand):\n",
    "    def __init__(self, name, deck):\n",
    "        Hand.__init__(self)\n",
    "        self.name = name\n",
    "        self.deck = deck\n",
    "        self.isBust = False\n",
    "\n",
    "    def show_hand(self):\n",
    "        for card in self.hand:\n",
    "            print(card)\n",
    "\n",
    "    def hit(self):\n",
    "        print(\"Hitting...\")\n",
    "        self.add_card(self.deck.deal_card())\n",
    "        return self.hand\n",
    "\n",
    "    def stand(self):\n",
    "        print(\"%s gets %d. Done.\" % (self.name, self.get_value()))\n",
    "\n",
    "    def check_bust(self):\n",
    "        if self.get_value() > 21:\n",
    "            self.isBust = True\n",
    "            print(\"%s gets bust!\" % self.name)\n",
    "        else:\n",
    "            self.stand()\n",
    "            \n",
    "    def check_bj(self):\n",
    "        if len(self.hand) == 2 and self.get_value() == 21:\n",
    "            print(\"Blackjack!\")\n",
    "            return True\n",
    "\n",
    "class Player(Dealer):\n",
    "    def __init__(self, name, deck, bet):\n",
    "        Dealer.__init__(self, name, deck)\n",
    "        self.bet = bet\n",
    "        self.isBust = False\n",
    "        self.isSurrender = False\n",
    "        self.isSplit = False\n",
    "        self.split = []\n",
    "\n",
    "class Player:\n",
    "    \n",
    "    def __init__(self,name):\n",
    "        self.name = name\n",
    "        # A new player has no cards\n",
    "        self.all_cards = []\n",
    "        self.issplit = False\n",
    "        self.split = []\n",
    "        \n",
    "        \n",
    "    def remove_one(self):\n",
    "        # Note we remove one card from the list of all_cards\n",
    "        # We state 0 to remove from the \"top\" of the deck\n",
    "        # We'll imagine index -1 as the bottom of the deck\n",
    "        return self.all_cards.pop(0)\n",
    "    \n",
    "    def add_cards(self,new_cards):\n",
    "        if type(new_cards) == type([]):\n",
    "            self.all_cards.extend(new_cards)\n",
    "        else:\n",
    "            self.all_cards.append(new_cards)\n",
    "    \n",
    "    def __str__(self):\n",
    "        return f'Player {self.name} has {len(self.all_cards)} cards.'"
   ]
  },
  {
   "cell_type": "code",
   "execution_count": 21,
   "id": "39e34d21",
   "metadata": {},
   "outputs": [
    {
     "name": "stdout",
     "output_type": "stream",
     "text": [
      "Your current balance is 905\n",
      "Place your bet: 10\n",
      "Bet Accepted. Balance is $895\n",
      "Computer has Ten of Hearts showing\n",
      "Player 1 has Two of Hearts\n",
      "Player 1 has Ten of Spades\n",
      "Will you (h)it or (s)tay? or (d)ouble down or s(p)lit?p\n",
      "Bet Accepted. Balance is $885\n",
      "Computer has Ten of Hearts showing\n",
      "Player 1 has Two of Hearts\n",
      "Player 1 has Two of Clubs\n",
      "Will you (h)it or (s)tay? or (d)ouble down or s(p)lit?h\n",
      "Player 1 hits!\n",
      "Computer has Ten of Hearts showing\n",
      "Player 1 has Two of Hearts\n",
      "Player 1 has Two of Clubs\n",
      "Player 1 has Five of Hearts\n",
      "Will you (h)it or (s)tay? or (d)ouble down or s(p)lit?d\n",
      "Can only double down with two cards\n",
      "Computer has Ten of Hearts showing\n",
      "Player 1 has Two of Hearts\n",
      "Player 1 has Two of Clubs\n",
      "Player 1 has Five of Hearts\n",
      "Will you (h)it or (s)tay? or (d)ouble down or s(p)lit?h\n",
      "Player 1 hits!\n",
      "Computer has Ten of Hearts showing\n",
      "Player 1 has Two of Hearts\n",
      "Player 1 has Two of Clubs\n",
      "Player 1 has Five of Hearts\n",
      "Player 1 has Three of Clubs\n",
      "Will you (h)it or (s)tay? or (d)ouble down or s(p)lit?h\n",
      "Player 1 hits!\n",
      "Computer has Ten of Hearts showing\n",
      "Player 1 has Two of Hearts\n",
      "Player 1 has Two of Clubs\n",
      "Player 1 has Five of Hearts\n",
      "Player 1 has Three of Clubs\n",
      "Player 1 has King of Clubs\n",
      "Player 1 busts!\n",
      "Computer has Ten of Hearts showing\n",
      "Player 1 has Ten of Spades\n",
      "Player 1 has Nine of Diamonds\n",
      "Will you (h)it or (s)tay? or (d)ouble down or s(p)lit?s\n",
      "Computer shows cards and will hit until reached soft/hard 17\n",
      "Computer's hand: \n",
      "Ten of Hearts\n",
      "Four of Spades\n",
      "Adding card\n",
      "Computer's hand: \n",
      "Ten of Hearts\n",
      "Four of Spades\n",
      "Four of Hearts\n",
      "Busted, Player 1 has 22\n",
      "Player 1 Wins! Computer has 18 vs Player 1 has 19\n",
      "$20 deposited into account. Balance is $905\n",
      "Do you want to play again? Enter Yes or No: n\n"
     ]
    }
   ],
   "source": [
    "from IPython.display import clear_output\n",
    "import re\n",
    "blackjack = True\n",
    "discarded_cards = []\n",
    "player = Account()\n",
    "while blackjack:\n",
    "    trialdeck = Deck()\n",
    "    trialdeck.shuffle()\n",
    "    split_list = []\n",
    "    trial_list = []\n",
    "    score_list = []\n",
    "    comp_list = []\n",
    "    comp_list.append(trialdeck.deal_one())\n",
    "    comp_list.append(trialdeck.deal_one())\n",
    "    trial_list.append(trialdeck.deal_one())\n",
    "    trial_list.append(trialdeck.deal_one())\n",
    "    in_game = True\n",
    "    comp_bust = False\n",
    "    player_bust = False\n",
    "    split = False\n",
    "    final_stage = False\n",
    "    betting_phase = True\n",
    "    hit_phase = True\n",
    "    score_phase = True\n",
    "    while betting_phase:\n",
    "        print(f'Your current balance is {player.balance}')\n",
    "        try:\n",
    "            bet = int(input('Place your bet: '))\n",
    "        except:\n",
    "            print(\"Looks like you did not enter an integer!\")\n",
    "            continue            \n",
    "        else:\n",
    "            acceptance = player.withdraw(bet)\n",
    "        if acceptance == True:\n",
    "            betting_phase = False\n",
    "            break\n",
    "        else:\n",
    "            continue\n",
    "    while in_game:\n",
    "        if final_stage == False and get_total(comp_list) == 21 and get_total(trial_list) != 21 and split == False:\n",
    "            print(f'Computer has Blackjack with {comp_list[0]} and {comp_list[1]}. Player 1 loses with {trial_list[0]} and {trial_list[1]}')\n",
    "            in_game = False\n",
    "            break\n",
    "        elif final_stage == False and get_total(comp_list) != 21 and get_total(trial_list) == 21 and split == False:\n",
    "            print(f'Player 1 has Blackjack, Player 1 wins! with {trial_list[0]} and {trial_list[1]}')\n",
    "            player.deposit(bet*2.5)\n",
    "            in_game = False\n",
    "            break     \n",
    "        elif final_stage == False and get_total(comp_list) == 21 and get_total(trial_list) == 21 and split == False:\n",
    "            print('Push! Both have blackjack')\n",
    "            player.deposit(bet)\n",
    "            in_game = False\n",
    "            break        \n",
    "        while hit_phase is True:\n",
    "            print(f\"Computer has {comp_list[0].rank} of {comp_list[0].suit} showing\")\n",
    "            for x in trial_list:\n",
    "                print(f\"Player 1 has {x.rank} of {x.suit}\")\n",
    "            if get_total(trial_list) > 21:\n",
    "                print('Player 1 busts!')\n",
    "                if split is True and not split_list or split is False: \n",
    "                    in_game = False\n",
    "                    comp_turn = False\n",
    "                    final_stage = True\n",
    "                    hit_phase = False\n",
    "                    break\n",
    "                    break\n",
    "                else:\n",
    "                    score_list.append(trial_list)\n",
    "                    trial_list = []\n",
    "                    trial_list.append(split_list.pop(0))\n",
    "                    trial_list.append(trialdeck.deal_one())\n",
    "                    continue\n",
    "            if get_total(trial_list) == 21:\n",
    "                print('21!')\n",
    "                if split is True and not split_list or split is False: \n",
    "                    in_game = False\n",
    "                    comp_turn = False\n",
    "                    final_stage = True\n",
    "                    hit_phase = False\n",
    "                    break\n",
    "                    break\n",
    "                else:\n",
    "                    score_list.append(trial_list)\n",
    "                    trial_list = []\n",
    "                    trial_list.append(split_list.pop(0))\n",
    "                    trial_list.append(trialdeck.deal_one())\n",
    "                    continue\n",
    "            else:\n",
    "                h_or_s = int(hit_or_stay())\n",
    "                if h_or_s == 2:\n",
    "                    if split is True and not split_list or split is False: \n",
    "                        print('Computer shows cards and will hit until reached soft/hard 17')\n",
    "                        comp_turn = True\n",
    "                        print('Computer\\'s hand: ')\n",
    "                        for x in comp_list:\n",
    "                            print(x)\n",
    "                        break\n",
    "                    else:\n",
    "                        score_list.append(trial_list)\n",
    "                        trial_list = []\n",
    "                        trial_list.append(split_list.pop(0))\n",
    "                        trial_list.append(trialdeck.deal_one())\n",
    "                        continue\n",
    "                elif h_or_s == 1:\n",
    "                    trial_list.append(trialdeck.deal_one())\n",
    "                    print(\"Player 1 hits!\")\n",
    "                    continue\n",
    "                elif h_or_s == 3 and len(trial_list) == 2:\n",
    "                    if player.withdraw(bet):\n",
    "                        trial_list.append(trialdeck.deal_one())\n",
    "                        trial_list.append('d')\n",
    "                        for x in trial_list:\n",
    "                            if x != 'd':\n",
    "                                print(f\"Player 1 has {x.rank} of {x.suit}\")\n",
    "                        if split is True and not split_list or split is False: \n",
    "                            print('Computer shows cards and will hit until reached soft/hard 17')\n",
    "                            comp_turn = True\n",
    "                            print('Computer\\'s hand: ')\n",
    "                            for x in comp_list:\n",
    "                                print(x)\n",
    "                                while comp_turn:\n",
    "                                    if get_total(comp_list) < 17:\n",
    "                                        print('Adding card')\n",
    "                                        comp_list.append(trialdeck.deal_one())\n",
    "                                        print('Computer\\'s hand: ')\n",
    "                                        for x in comp_list:\n",
    "                                            print(x)\n",
    "                                        continue\n",
    "                                    else:\n",
    "                                        comp_turn = False\n",
    "                                        final_stage = True\n",
    "                                        hit_phase = False\n",
    "                                        break   \n",
    "                                        break\n",
    "                        else:\n",
    "                            score_list.append(trial_list)\n",
    "                            trial_list = []\n",
    "                            trial_list.append(split_list.pop(0))\n",
    "                            trial_list.append(trialdeck.deal_one())\n",
    "                            continue\n",
    "                elif h_or_s == 3 and len(trial_list) != 2:\n",
    "                    print('Can only double down with two cards')\n",
    "                    continue\n",
    "                elif h_or_s == 4 and len(trial_list) == 2:\n",
    "                #and trial_list[0].value == triallist[1].value\n",
    "                    if player.withdraw(bet):\n",
    "                        split_list.append(trial_list.pop(1))\n",
    "                        trial_list.append(trialdeck.deal_one())\n",
    "                        split = True\n",
    "                        continue\n",
    "                    else:\n",
    "                        continue\n",
    "                elif h_or_s == 4 and (len(trial_list) != 2 or trial_list[0].value != trial_list[1].value):\n",
    "                    print('Can only split with two cards and both cards are the same value')\n",
    "                    continue\n",
    "        while comp_turn:\n",
    "            if get_total(comp_list) < 17:\n",
    "                print('Adding card')\n",
    "                comp_list.append(trialdeck.deal_one())\n",
    "                print('Computer\\'s hand: ')\n",
    "                for x in comp_list:\n",
    "                    print(x)\n",
    "                continue\n",
    "            else:\n",
    "                comp_turn = False\n",
    "                final_stage = True\n",
    "                hit_phase = False\n",
    "                break\n",
    "                break\n",
    "        while score_phase is True:\n",
    "            if get_total(comp_list) > 21:\n",
    "                comp_bust = True\n",
    "            if get_total(comp_list) > 21:                \n",
    "                player_bust = True\n",
    "            score_list.append(trial_list)\n",
    "            for hand in score_list:\n",
    "                if get_total(hand) > 21:\n",
    "                    print(f'Busted, Player 1 has {get_total(hand)}') \n",
    "                elif 'd' in hand:\n",
    "                    if final_stage == True and comp_bust == False and get_total(comp_list) > get_total(hand):\n",
    "                        print(f'Computer Wins! Computer has {get_total(comp_list)} vs Player 1 has {get_total(hand)}')\n",
    "                    elif final_stage == True and comp_bust == False and get_total(comp_list) < get_total(hand):\n",
    "                        print(f'Player 1 Wins! Computer has {get_total(comp_list)} vs Player 1 has {get_total(hand)}')\n",
    "                        player.deposit(bet*4)\n",
    "                    elif final_stage == True and comp_bust == False and get_total(comp_list) == get_total(hand):\n",
    "                        print(f'Push! Computer has {get_total(comp_list)} vs Player 1 has {get_total(hand)}')\n",
    "                        player.deposit(bet*2)\n",
    "                    elif final_stage == True and comp_bust == False and get_total(hand)>21:\n",
    "                        print(f'Busted, Player 1 has {get_total(hand)}')                      \n",
    "                    else:\n",
    "                        print(f'Computer Bust with {get_total(comp_list)}! Player 1 has {get_total(hand)}')\n",
    "                        player.deposit(bet*4)\n",
    "                else:\n",
    "                    if final_stage == True and comp_bust == False and get_total(comp_list) > get_total(hand):\n",
    "                        print(f'Computer Wins! Computer has {get_total(comp_list)} vs Player 1 has {get_total(hand)}')\n",
    "                    elif final_stage == True and comp_bust == False and get_total(comp_list) < get_total(hand):\n",
    "                        print(f'Player 1 Wins! Computer has {get_total(comp_list)} vs Player 1 has {get_total(hand)}')\n",
    "                        player.deposit(bet*2)\n",
    "                    elif final_stage == True and comp_bust == False and get_total(comp_list) == get_total(hand):\n",
    "                        print(f'Push! Computer has {get_total(comp_list)} vs Player 1 has {get_total(hand)}')\n",
    "                        player.deposit(bet)\n",
    "                    else:\n",
    "                        print(f'Computer Bust with {get_total(comp_list)}! Player 1 has {get_total(hand)}')\n",
    "                        player.deposit(bet*2)\n",
    "            in_game = False\n",
    "            score_phase = False\n",
    "            break\n",
    "            break\n",
    "            break\n",
    "    if not replay():\n",
    "        discarded_cards = discarded_cards + trial_list + comp_list\n",
    "        with open('Blackjack_Output.txt', 'w') as f:\n",
    "            f.writelines(f'Bank Roll: {player.balance}, Number of Hands: , Number of Hands did not use HiLo: , Number of Hands that did not follow odds: , Number of Hands that did follow odds: ')\n",
    "        break \n",
    "    else:\n",
    "        discarded_cards = discarded_cards + trial_list + comp_list\n",
    "        clear_output()\n",
    "        continue\n"
   ]
  },
  {
   "cell_type": "code",
   "execution_count": 1,
   "id": "6f3b42e8",
   "metadata": {},
   "outputs": [
    {
     "ename": "NameError",
     "evalue": "name 'score_list' is not defined",
     "output_type": "error",
     "traceback": [
      "\u001b[1;31m---------------------------------------------------------------------------\u001b[0m",
      "\u001b[1;31mNameError\u001b[0m                                 Traceback (most recent call last)",
      "\u001b[1;32m<ipython-input-1-0542c8f9de7c>\u001b[0m in \u001b[0;36m<module>\u001b[1;34m\u001b[0m\n\u001b[1;32m----> 1\u001b[1;33m \u001b[0mscore_list\u001b[0m\u001b[1;33m\u001b[0m\u001b[1;33m\u001b[0m\u001b[0m\n\u001b[0m",
      "\u001b[1;31mNameError\u001b[0m: name 'score_list' is not defined"
     ]
    }
   ],
   "source": [
    "score_list"
   ]
  },
  {
   "cell_type": "code",
   "execution_count": 2,
   "id": "ae132b33",
   "metadata": {},
   "outputs": [
    {
     "name": "stdout",
     "output_type": "stream",
     "text": [
      "nothing\n",
      "D found\n",
      "nothing\n"
     ]
    }
   ],
   "source": [
    "score_list = [[1,2,3], [1, 'd', 3], [1,2,3,4,5]]\n",
    "for hand in score_list:\n",
    "    if 'd' in hand:\n",
    "        print(\"D found\")\n",
    "    else:\n",
    "        print(\"nothing\")\n",
    "        "
   ]
  },
  {
   "cell_type": "code",
   "execution_count": 30,
   "id": "3ed792a1",
   "metadata": {},
   "outputs": [
    {
     "data": {
      "text/plain": [
       "[[<__main__.Card at 0x1fbc4076670>], <__main__.Card at 0x1fbc4060b50>]"
      ]
     },
     "execution_count": 30,
     "metadata": {},
     "output_type": "execute_result"
    }
   ],
   "source": [
    "trial_list"
   ]
  },
  {
   "cell_type": "code",
   "execution_count": 26,
   "id": "2fd898c9",
   "metadata": {},
   "outputs": [
    {
     "name": "stdout",
     "output_type": "stream",
     "text": [
      "[[1], [2]]\n"
     ]
    }
   ],
   "source": [
    "print(split_list_test)"
   ]
  },
  {
   "cell_type": "code",
   "execution_count": 13,
   "id": "98c2f1bc",
   "metadata": {},
   "outputs": [
    {
     "ename": "NameError",
     "evalue": "name 'discarded_cards' is not defined",
     "output_type": "error",
     "traceback": [
      "\u001b[1;31m---------------------------------------------------------------------------\u001b[0m",
      "\u001b[1;31mNameError\u001b[0m                                 Traceback (most recent call last)",
      "\u001b[1;32m<ipython-input-13-2ee4982db99d>\u001b[0m in \u001b[0;36m<module>\u001b[1;34m\u001b[0m\n\u001b[1;32m----> 1\u001b[1;33m \u001b[0mdiscarded_cards\u001b[0m\u001b[1;33m\u001b[0m\u001b[1;33m\u001b[0m\u001b[0m\n\u001b[0m",
      "\u001b[1;31mNameError\u001b[0m: name 'discarded_cards' is not defined"
     ]
    }
   ],
   "source": [
    "discarded_cards"
   ]
  },
  {
   "cell_type": "code",
   "execution_count": 14,
   "id": "12adb63e",
   "metadata": {},
   "outputs": [
    {
     "ename": "NameError",
     "evalue": "name 'discarded_cards' is not defined",
     "output_type": "error",
     "traceback": [
      "\u001b[1;31m---------------------------------------------------------------------------\u001b[0m",
      "\u001b[1;31mNameError\u001b[0m                                 Traceback (most recent call last)",
      "\u001b[1;32m<ipython-input-14-706bca13c6ea>\u001b[0m in \u001b[0;36m<module>\u001b[1;34m\u001b[0m\n\u001b[1;32m----> 1\u001b[1;33m \u001b[1;32mfor\u001b[0m \u001b[0mcards\u001b[0m \u001b[1;32min\u001b[0m \u001b[0mdiscarded_cards\u001b[0m\u001b[1;33m:\u001b[0m\u001b[1;33m\u001b[0m\u001b[1;33m\u001b[0m\u001b[0m\n\u001b[0m\u001b[0;32m      2\u001b[0m     \u001b[0mprint\u001b[0m\u001b[1;33m(\u001b[0m\u001b[0mcards\u001b[0m\u001b[1;33m)\u001b[0m\u001b[1;33m\u001b[0m\u001b[1;33m\u001b[0m\u001b[0m\n",
      "\u001b[1;31mNameError\u001b[0m: name 'discarded_cards' is not defined"
     ]
    }
   ],
   "source": [
    "for cards in discarded_cards:\n",
    "    print(cards)"
   ]
  },
  {
   "cell_type": "code",
   "execution_count": 71,
   "id": "fb39a834",
   "metadata": {},
   "outputs": [
    {
     "name": "stdout",
     "output_type": "stream",
     "text": [
      "Ace of Diamonds\n",
      "Six of Spades\n",
      "Jack of Spades\n",
      "Four of Spades\n"
     ]
    }
   ],
   "source": [
    "for x in trial_list:\n",
    "    print(x)"
   ]
  },
  {
   "cell_type": "code",
   "execution_count": 60,
   "id": "77e1de88",
   "metadata": {},
   "outputs": [
    {
     "name": "stdout",
     "output_type": "stream",
     "text": [
      "Ace of Clubs\n",
      "King of Clubs\n"
     ]
    }
   ],
   "source": [
    "for x in comp_list:\n",
    "    print(x)"
   ]
  },
  {
   "cell_type": "code",
   "execution_count": 38,
   "id": "8d5f52fa",
   "metadata": {},
   "outputs": [
    {
     "data": {
      "text/plain": [
       "'[<__main__.Card object at 0x000001B11DE8E0A0>, <__main__.Card object at 0x000001B11DE8EAC0>]'"
      ]
     },
     "execution_count": 38,
     "metadata": {},
     "output_type": "execute_result"
    }
   ],
   "source": [
    "str(trial_list)"
   ]
  },
  {
   "cell_type": "code",
   "execution_count": 30,
   "id": "315b1177",
   "metadata": {},
   "outputs": [
    {
     "data": {
      "text/plain": [
       "<__main__.Card at 0x1b11de8e0a0>"
      ]
     },
     "execution_count": 30,
     "metadata": {},
     "output_type": "execute_result"
    }
   ],
   "source": [
    "trialdeck.all_cards[-1]"
   ]
  },
  {
   "cell_type": "code",
   "execution_count": 37,
   "id": "81d964e8",
   "metadata": {},
   "outputs": [
    {
     "name": "stdout",
     "output_type": "stream",
     "text": [
      "Ten of Clubs\n"
     ]
    }
   ],
   "source": [
    "for x in mylist: \n",
    "    print(x)"
   ]
  },
  {
   "cell_type": "code",
   "execution_count": 41,
   "id": "0f8db9d4",
   "metadata": {},
   "outputs": [],
   "source": [
    "list = []\n",
    "for card in trialdeck.all_cards:\n",
    "    list.append(card)"
   ]
  },
  {
   "cell_type": "code",
   "execution_count": 49,
   "id": "956ebc94",
   "metadata": {},
   "outputs": [
    {
     "ename": "NameError",
     "evalue": "name 'mylist' is not defined",
     "output_type": "error",
     "traceback": [
      "\u001b[1;31m---------------------------------------------------------------------------\u001b[0m",
      "\u001b[1;31mNameError\u001b[0m                                 Traceback (most recent call last)",
      "\u001b[1;32m<ipython-input-49-f1e436eda3e2>\u001b[0m in \u001b[0;36m<module>\u001b[1;34m\u001b[0m\n\u001b[1;32m----> 1\u001b[1;33m \u001b[0mtype\u001b[0m\u001b[1;33m(\u001b[0m\u001b[0mmylist\u001b[0m\u001b[1;33m[\u001b[0m\u001b[1;33m-\u001b[0m\u001b[1;36m1\u001b[0m\u001b[1;33m]\u001b[0m\u001b[1;33m.\u001b[0m\u001b[0mvalue\u001b[0m\u001b[1;33m)\u001b[0m\u001b[1;33m\u001b[0m\u001b[1;33m\u001b[0m\u001b[0m\n\u001b[0m",
      "\u001b[1;31mNameError\u001b[0m: name 'mylist' is not defined"
     ]
    }
   ],
   "source": [
    "type(mylist[-1].value)"
   ]
  },
  {
   "cell_type": "code",
   "execution_count": 35,
   "id": "12cd49b9",
   "metadata": {},
   "outputs": [
    {
     "ename": "ValueError",
     "evalue": "invalid literal for int() with base 10: 'Ten'",
     "output_type": "error",
     "traceback": [
      "\u001b[1;31m---------------------------------------------------------------------------\u001b[0m",
      "\u001b[1;31mValueError\u001b[0m                                Traceback (most recent call last)",
      "\u001b[1;32m<ipython-input-35-a204b7fa5cd5>\u001b[0m in \u001b[0;36m<module>\u001b[1;34m\u001b[0m\n\u001b[1;32m----> 1\u001b[1;33m \u001b[0mint\u001b[0m\u001b[1;33m(\u001b[0m\u001b[0mmylist\u001b[0m\u001b[1;33m[\u001b[0m\u001b[1;33m-\u001b[0m\u001b[1;36m1\u001b[0m\u001b[1;33m]\u001b[0m\u001b[1;33m.\u001b[0m\u001b[0mrank\u001b[0m\u001b[1;33m)\u001b[0m\u001b[1;33m\u001b[0m\u001b[1;33m\u001b[0m\u001b[0m\n\u001b[0m",
      "\u001b[1;31mValueError\u001b[0m: invalid literal for int() with base 10: 'Ten'"
     ]
    }
   ],
   "source": []
  },
  {
   "cell_type": "code",
   "execution_count": 17,
   "id": "b2310f9f",
   "metadata": {},
   "outputs": [
    {
     "name": "stdout",
     "output_type": "stream",
     "text": [
      "Player Test has 2 cards.\n"
     ]
    }
   ],
   "source": [
    "print(trialplayer)"
   ]
  },
  {
   "cell_type": "code",
   "execution_count": 18,
   "id": "46e824d5",
   "metadata": {},
   "outputs": [
    {
     "ename": "TypeError",
     "evalue": "'Player' object is not iterable",
     "output_type": "error",
     "traceback": [
      "\u001b[1;31m---------------------------------------------------------------------------\u001b[0m",
      "\u001b[1;31mTypeError\u001b[0m                                 Traceback (most recent call last)",
      "\u001b[1;32m<ipython-input-18-a6d09f4e0b45>\u001b[0m in \u001b[0;36m<module>\u001b[1;34m\u001b[0m\n\u001b[1;32m----> 1\u001b[1;33m \u001b[1;32mfor\u001b[0m \u001b[0mx\u001b[0m \u001b[1;32min\u001b[0m \u001b[0mtrialplayer\u001b[0m\u001b[1;33m:\u001b[0m\u001b[1;33m\u001b[0m\u001b[1;33m\u001b[0m\u001b[0m\n\u001b[0m\u001b[0;32m      2\u001b[0m     \u001b[0mprint\u001b[0m\u001b[1;33m(\u001b[0m\u001b[0mx\u001b[0m\u001b[1;33m)\u001b[0m\u001b[1;33m\u001b[0m\u001b[1;33m\u001b[0m\u001b[0m\n",
      "\u001b[1;31mTypeError\u001b[0m: 'Player' object is not iterable"
     ]
    }
   ],
   "source": [
    "for x in trialplayer:\n",
    "    print(x)"
   ]
  },
  {
   "cell_type": "code",
   "execution_count": 5,
   "id": "e759b6f0",
   "metadata": {},
   "outputs": [],
   "source": [
    "new_deck = Deck()"
   ]
  },
  {
   "cell_type": "code",
   "execution_count": 6,
   "id": "726073b8",
   "metadata": {},
   "outputs": [
    {
     "data": {
      "text/plain": [
       "52"
      ]
     },
     "execution_count": 6,
     "metadata": {},
     "output_type": "execute_result"
    }
   ],
   "source": [
    "len(new_deck.all_cards)"
   ]
  },
  {
   "cell_type": "code",
   "execution_count": 22,
   "id": "f0ac59a8",
   "metadata": {},
   "outputs": [
    {
     "name": "stdout",
     "output_type": "stream",
     "text": [
      "Queen of Clubs\n"
     ]
    }
   ],
   "source": [
    "a = print(new_deck.deal_one())"
   ]
  },
  {
   "cell_type": "code",
   "execution_count": 23,
   "id": "67ec47df",
   "metadata": {},
   "outputs": [
    {
     "data": {
      "text/plain": [
       "49"
      ]
     },
     "execution_count": 23,
     "metadata": {},
     "output_type": "execute_result"
    }
   ],
   "source": [
    "len(new_deck.all_cards)"
   ]
  },
  {
   "cell_type": "code",
   "execution_count": 24,
   "id": "f54c10e0",
   "metadata": {},
   "outputs": [
    {
     "data": {
      "text/plain": [
       "<__main__.Card at 0x2d9fd2ec8b0>"
      ]
     },
     "execution_count": 24,
     "metadata": {},
     "output_type": "execute_result"
    }
   ],
   "source": [
    "new_deck.deal_one()"
   ]
  },
  {
   "cell_type": "code",
   "execution_count": 26,
   "id": "c0501be0",
   "metadata": {},
   "outputs": [
    {
     "name": "stdout",
     "output_type": "stream",
     "text": [
      "None\n"
     ]
    }
   ],
   "source": [
    "print(a)"
   ]
  }
 ],
 "metadata": {
  "kernelspec": {
   "display_name": "Python 3",
   "language": "python",
   "name": "python3"
  },
  "language_info": {
   "codemirror_mode": {
    "name": "ipython",
    "version": 3
   },
   "file_extension": ".py",
   "mimetype": "text/x-python",
   "name": "python",
   "nbconvert_exporter": "python",
   "pygments_lexer": "ipython3",
   "version": "3.8.8"
  }
 },
 "nbformat": 4,
 "nbformat_minor": 5
}
